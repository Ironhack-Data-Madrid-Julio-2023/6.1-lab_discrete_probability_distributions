{
 "cells": [
  {
   "cell_type": "markdown",
   "metadata": {},
   "source": [
    "# Before your start:\n",
    "\n",
    "    Read the README.md file\n",
    "    Comment as much as you can and use the resources (README.md file)\n",
    "    Happy learning!\n",
    "\n",
    "*Notes:* \n",
    "\n",
    "- Solve the questions with python.\n",
    "\n",
    "- Round the final answer to three decimal places."
   ]
  },
  {
   "cell_type": "markdown",
   "metadata": {},
   "source": [
    "## Bernoulli's Distribution\n",
    "\n",
    "In a basket containing 100 fruits, there are 60 apples and 40 oranges. \n",
    "\n",
    "A fruit is picked randomly from the basket. \n",
    "\n",
    "1. **What is the probability that the fruit is apple?**\n",
    "1. **What is the probability that it is an orange?**"
   ]
  },
  {
   "cell_type": "markdown",
   "metadata": {},
   "source": [
    "La distribución de Bernoulli es una distribución de probabilidad discreta que modela un solo ensayo o experimento con dos resultados posibles: éxito o fracaso, 1 o 0, sí o no. Por lo tanto, es una distribución univariable que representa un único intento de un evento. Por ejemplo, lanzar una moneda y obtener cara o cruz."
   ]
  },
  {
   "cell_type": "code",
   "execution_count": 3,
   "metadata": {},
   "outputs": [],
   "source": [
    "\"\"\"\n",
    "Calculate:\n",
    "p = probability that the fruit is an apple \n",
    "q = probability that the fruit is an orange\n",
    "\"\"\"\n",
    "\n",
    "# your code here\n",
    "\n",
    "p = 60/100\n",
    "q = 40/100\n"
   ]
  },
  {
   "cell_type": "markdown",
   "metadata": {},
   "source": [
    "Now we take a random sample of 20 fruits from the basket. After each fruit is taken, a new fruit of the same type is replaced in the basket. Therefore, every time we are taking 1 fruit from 100 fruits. \n",
    "\n",
    "1. **What is the probability that the first 5 fruits are all apples?**\n",
    "\n",
    "1. **What is the probability that the first 5 fruits are all apples and the next 15 fruits are all oranges?**\n",
    "\n",
    "You can include the `p` and `q` probabilities you previous calculated in your solution."
   ]
  },
  {
   "cell_type": "code",
   "execution_count": 4,
   "metadata": {},
   "outputs": [],
   "source": [
    "# your code here\n",
    "from scipy.stats import bernoulli"
   ]
  },
  {
   "cell_type": "code",
   "execution_count": 8,
   "metadata": {},
   "outputs": [
    {
     "data": {
      "text/plain": [
       "0.07775999999999998"
      ]
     },
     "execution_count": 8,
     "metadata": {},
     "output_type": "execute_result"
    }
   ],
   "source": [
    "# Calcula la probabilidad de que las primeras 5 frutas sean todas manzanas\n",
    "\n",
    "p5manzanas = bernoulli.pmf(1, p) ** 5\n",
    "# Dos argumentos: el valor 1 representa el evento favorable, en este caso seleccionar una manzana) y la probabilidad de éxito (en este caso p). Elevamos esta probabilidad a la potencia de 5 para representar 5 experimentos independientes.\n",
    "p5manzanas"
   ]
  },
  {
   "cell_type": "code",
   "execution_count": 9,
   "metadata": {},
   "outputs": [
    {
     "data": {
      "text/plain": [
       "1.073741824000001e-06"
      ]
     },
     "execution_count": 9,
     "metadata": {},
     "output_type": "execute_result"
    }
   ],
   "source": [
    "# Calcula la probabilidad de que las siguientes 15 frutas sean todas naranjas\n",
    "\n",
    "q15naranjas = bernoulli.pmf(1, q) ** 15\n",
    "\n",
    "q15naranjas \n"
   ]
  },
  {
   "cell_type": "code",
   "execution_count": 11,
   "metadata": {},
   "outputs": [
    {
     "data": {
      "text/plain": [
       "8.349416423424006e-08"
      ]
     },
     "execution_count": 11,
     "metadata": {},
     "output_type": "execute_result"
    }
   ],
   "source": [
    "# Calcula la probabilidad conjunta de que las primeras 5 frutas sean todas manzanas y las siguientes 15 frutas sean todas naranjas\n",
    "pconjunta = p5manzanas * q15naranjas\n",
    "\n",
    "pconjunta\n"
   ]
  },
  {
   "cell_type": "markdown",
   "metadata": {},
   "source": [
    "## Binomial Distribution\n",
    "\n",
    "Similar to the above problem, this time again we randomly sample 20 fruits.\n",
    "\n",
    "**What is the probability that this time the sample contains 5 apples and 15 oranges?**\n",
    "\n",
    "Please note that this time the order of the fruits being picked does not matter."
   ]
  },
  {
   "cell_type": "markdown",
   "metadata": {},
   "source": [
    "La distribución binomial, es una distribución de probabilidad discreta que modela una secuencia de ensayos independientes entre sí, cada uno con dos resultados posibles. Es una generalización de la distribución de Bernoulli al considerar múltiples ensayos. La distribución binomial describe el número de éxitos en una cantidad fija de ensayos.\n",
    "\n",
    "Por ejemplo, si lanzamos una moneda 10 veces y queremos saber la probabilidad de obtener exactamente 7 caras, podemos modelar este problema utilizando una distribución binomial. Cada lanzamiento de la moneda es un ensayo (donde el resultado es éxito o fracaso), y el número total de ensayos es 10.\n",
    "\n",
    "En resumen, la distribución de Bernoulli modela un solo ensayo con dos resultados posibles, mientras que la distribución binomial modela una secuencia de ensayos independientes y cuenta el número de éxitos en un número fijo de ensayos."
   ]
  },
  {
   "cell_type": "code",
   "execution_count": 12,
   "metadata": {},
   "outputs": [],
   "source": [
    "# your code here\n",
    "import pylab as plt\n",
    "\n",
    "from scipy.stats import binom"
   ]
  },
  {
   "cell_type": "code",
   "execution_count": 15,
   "metadata": {},
   "outputs": [
    {
     "data": {
      "text/plain": [
       "0.0012944935222876583"
      ]
     },
     "execution_count": 15,
     "metadata": {},
     "output_type": "execute_result"
    }
   ],
   "source": [
    "# binom.pmf(k, n, p)  # k=nº de exitos, n=nº de repeticiones, p=prob, \n",
    "\n",
    "# pmf=probability mass function\n",
    "\n",
    "# calcular la probabilidad de sacar 5 manzanas\n",
    "\n",
    "manzanas = binom.pmf(5, 20, p)\n",
    "manzanas"
   ]
  },
  {
   "cell_type": "code",
   "execution_count": 16,
   "metadata": {},
   "outputs": [
    {
     "data": {
      "text/plain": [
       "0.0012944935222876583"
      ]
     },
     "execution_count": 16,
     "metadata": {},
     "output_type": "execute_result"
    }
   ],
   "source": [
    "# calcular la probabilidad de sacar 15 naranjas\n",
    "\n",
    "naranjas = binom.pmf(15, 20, q)\n",
    "naranjas"
   ]
  },
  {
   "cell_type": "markdown",
   "metadata": {},
   "source": [
    "Las cantidades son las mismas, porque son dos productos diferentes "
   ]
  },
  {
   "cell_type": "code",
   "execution_count": 48,
   "metadata": {},
   "outputs": [
    {
     "data": {
      "text/plain": [
       "0.031921361119954424"
      ]
     },
     "execution_count": 48,
     "metadata": {},
     "output_type": "execute_result"
    }
   ],
   "source": [
    "#pruebas\n",
    "melocoton = binom.pmf(5, 20, 0.1)\n",
    "melocoton"
   ]
  },
  {
   "cell_type": "code",
   "execution_count": 50,
   "metadata": {},
   "outputs": [
    {
     "data": {
      "text/plain": [
       "0.03192136111995438"
      ]
     },
     "execution_count": 50,
     "metadata": {},
     "output_type": "execute_result"
    }
   ],
   "source": [
    "#pruebas\n",
    "fresa= binom.pmf(15, 20, 0.9)\n",
    "fresa"
   ]
  },
  {
   "cell_type": "code",
   "execution_count": 17,
   "metadata": {},
   "outputs": [
    {
     "data": {
      "text/plain": [
       "1.675713479244708e-06"
      ]
     },
     "execution_count": 17,
     "metadata": {},
     "output_type": "execute_result"
    }
   ],
   "source": [
    "muestraconjunta = manzanas * naranjas\n",
    "muestraconjunta"
   ]
  },
  {
   "cell_type": "markdown",
   "metadata": {},
   "source": [
    "In the lesson we also discussed CDF (cumulative distribution function). In the context of the above problem, **what is the probability that less than 5 fruits picked are apples?**\n",
    "\n",
    "Write the formula and calculate the probability below."
   ]
  },
  {
   "cell_type": "code",
   "execution_count": 33,
   "metadata": {},
   "outputs": [
    {
     "data": {
      "text/plain": [
       "0.00031703112116863004"
      ]
     },
     "execution_count": 33,
     "metadata": {},
     "output_type": "execute_result"
    }
   ],
   "source": [
    "# your code here\n",
    "\n",
    "# binom.cdf(k, n, p)\n",
    "\n",
    "# el valor de k en la función de distribución acumulativa (CDF) sería 5. \n",
    "# Sin embargo, la cuenta comenzaría desde 0 hasta 5, \n",
    "# es decir, se consideraría la probabilidad de obtener 0, 1, 2, 3, 4 o 5 manzanas.\n",
    "\n",
    "\n",
    "n = 20  # número de ensayos\n",
    "k = 4  # valor para el cálculo de la CDF\n",
    "\n",
    "# Calculamos la probabilidad acumulada\n",
    "\n",
    "probabilidadacumulada = binom.cdf(k, n, p)\n",
    "\n",
    "probabilidadacumulada\n"
   ]
  },
  {
   "cell_type": "markdown",
   "metadata": {},
   "source": [
    "**Plot the PDF (probability distributiom function) for the above binomial distribution.**\n",
    "\n",
    "*Hint: The range of x in a binomial distribution is from `0` to `n`.*"
   ]
  },
  {
   "cell_type": "code",
   "execution_count": 39,
   "metadata": {},
   "outputs": [
    {
     "data": {
      "image/png": "[encoded data removed]",
      "text/plain": [
       "<Figure size 640x480 with 1 Axes>"
      ]
     },
     "metadata": {},
     "output_type": "display_data"
    }
   ],
   "source": [
    "# Valores de x para el rango de la distribución binomial\n",
    "x = range(0, n+1)\n",
    "\n",
    "# Calculamos los valores de la PDF para cada x\n",
    "pdf_values = [binom.pmf(i, n, p) for i in x]\n",
    "\n",
    "# Graficamos la distribución binomial\n",
    "plt.bar(x, pdf_values)\n",
    "plt.xlabel('Número de manzanas')\n",
    "plt.ylabel('Probabilidad')\n",
    "plt.title('Función de Densidad de Probabilidad (PDF) - Distribución Binomial')\n",
    "plt.show()"
   ]
  },
  {
   "cell_type": "markdown",
   "metadata": {},
   "source": [
    "## Poisson Distribution\n",
    "\n",
    "In this challenge you are required to use the Math library in python to solve the problems.\n",
    "\n",
    "In the UEFA champions league tournament, the average number of goals scored in a match is 2.3. \n",
    "\n",
    "**What is the probability that the number of goals scored in a match is 5?**\n",
    "\n",
    "*Hint: Use the exp() in the math library*\n",
    "\n",
    "And to calculate the factorial, you can use the following code:\n",
    "\n",
    "```python\n",
    "import math\n",
    "math.factorial(n) # n is the number you want to find the factorial of\n",
    "```"
   ]
  },
  {
   "cell_type": "markdown",
   "metadata": {},
   "source": [
    "La distribución de Poisson es una distribución de probabilidad discreta que se utiliza para modelar el número de eventos que ocurren en un intervalo de tiempo o espacio específico, cuando los eventos ocurren de manera independiente a una tasa promedio conocida.\n",
    "\n",
    "La diferencia principal entre la distribución binomial y la distribución de Poisson es que la distribución binomial se utiliza para contar el número de éxitos en un número fijo de ensayos independientes, mientras que la distribución de Poisson se utiliza para contar el número de eventos en un intervalo de tiempo o espacio.\n",
    "\n",
    "Mientras que en la distribución binomial se considera un número fijo de ensayos y se define la probabilidad de éxito en cada ensayo, en la distribución de Poisson se tiene una tasa promedio de eventos por unidad de tiempo o espacio.\n",
    "\n",
    "La función de probabilidad de masa (PMF) de la distribución de Poisson se define como:\n",
    "\n",
    "P(x, λ) = (e^(-λ) * λ^x) / x!\n",
    "\n",
    "Donde x es el número de eventos que se está evaluando, λ es la tasa promedio de eventos, e es la base del logaritmo natural, y x! representa el factorial de x.\n",
    "\n",
    "En resumen, la distribución de Poisson se utiliza para modelar el número de eventos que ocurren en un intervalo de tiempo o espacio, cuando los eventos ocurren de manera independiente a una tasa promedio conocida. La distribución binomial, por otro lado, se utiliza para contar el número de éxitos en un número fijo de ensayos independientes.\n"
   ]
  },
  {
   "cell_type": "code",
   "execution_count": 42,
   "metadata": {},
   "outputs": [
    {
     "data": {
      "text/plain": [
       "0.053775025581946814"
      ]
     },
     "execution_count": 42,
     "metadata": {},
     "output_type": "execute_result"
    }
   ],
   "source": [
    "# your code here \n",
    "from scipy.stats import poisson\n",
    "import math\n",
    "\n",
    "# poisson.pmf(k, lambda), poisson.pmf(evento, media)\n",
    "\n",
    "# media del equipo de goles es 2.3, ¿prob de marcar 5?\n",
    "\n",
    "\n",
    "poisson.pmf(5, 2.3)  "
   ]
  },
  {
   "cell_type": "code",
   "execution_count": 45,
   "metadata": {},
   "outputs": [
    {
     "data": {
      "text/plain": [
       "0.0537750255819468"
      ]
     },
     "execution_count": 45,
     "metadata": {},
     "output_type": "execute_result"
    }
   ],
   "source": [
    "media_goles = 2.3\n",
    "k = 5\n",
    "\n",
    "# Calculamos la probabilidad utilizando la distribución de Poisson\n",
    "probabilidad = (math.exp(-media_goles) * media_goles**k) / math.factorial(k)\n",
    "\n",
    "probabilidad "
   ]
  },
  {
   "cell_type": "markdown",
   "metadata": {},
   "source": [
    "**Draw a poisson probability distribution plot for the number of goals to be between 0 to 10.**"
   ]
  },
  {
   "cell_type": "code",
   "execution_count": 46,
   "metadata": {},
   "outputs": [
    {
     "data": {
      "image/png": "[encoded data removed]",
      "text/plain": [
       "<Figure size 640x480 with 1 Axes>"
      ]
     },
     "metadata": {},
     "output_type": "display_data"
    }
   ],
   "source": [
    "# your code here\n",
    "# Please label the axes and give a title to the plot \n",
    "\n",
    "x=[i for i in range(10)]    # numero de  goles\n",
    "\n",
    "y=[poisson.pmf(x, 2.3) for x in x] \n",
    "\n",
    "plt.plot(x, y);"
   ]
  },
  {
   "cell_type": "code",
   "execution_count": 47,
   "metadata": {},
   "outputs": [
    {
     "data": {
      "image/png": "[encoded data removed]",
      "text/plain": [
       "<Figure size 640x480 with 1 Axes>"
      ]
     },
     "metadata": {},
     "output_type": "display_data"
    }
   ],
   "source": [
    "\n",
    "media_goles = 2.3\n",
    "\n",
    "# Valores de x para el rango de la distribución de Poisson\n",
    "x = range(0, 11)\n",
    "\n",
    "# Calculamos los valores de la PMF para cada x\n",
    "pmf_values = [poisson.pmf(i, media_goles) for i in x]\n",
    "\n",
    "# Graficamos la distribución de Poisson\n",
    "plt.bar(x, pmf_values)\n",
    "plt.xlabel('Número de goles')\n",
    "plt.ylabel('Probabilidad')\n",
    "plt.title('Diagrama de Distribución de Probabilidad de Poisson')\n",
    "plt.show()"
   ]
  }
 ],
 "metadata": {
  "kernelspec": {
   "display_name": "Python 3 (ipykernel)",
   "language": "python",
   "name": "python3"
  },
  "language_info": {
   "codemirror_mode": {
    "name": "ipython",
    "version": 3
   },
   "file_extension": ".py",
   "mimetype": "text/x-python",
   "name": "python",
   "nbconvert_exporter": "python",
   "pygments_lexer": "ipython3",
   "version": "3.10.9"
  }
 },
 "nbformat": 4,
 "nbformat_minor": 2
}
