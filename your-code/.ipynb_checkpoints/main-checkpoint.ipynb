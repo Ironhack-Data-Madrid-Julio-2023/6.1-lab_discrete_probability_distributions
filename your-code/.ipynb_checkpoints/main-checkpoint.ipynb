{
 "cells": [
  {
   "cell_type": "markdown",
   "metadata": {},
   "source": [
    "# Before your start:\n",
    "\n",
    "    Read the README.md file\n",
    "    Comment as much as you can and use the resources (README.md file)\n",
    "    Happy learning!\n",
    "\n",
    "*Notes:* \n",
    "\n",
    "- Solve the questions with python.\n",
    "\n",
    "- Round the final answer to three decimal places."
   ]
  },
  {
   "cell_type": "markdown",
   "metadata": {},
   "source": [
    "## Bernoulli's Distribution\n",
    "\n",
    "In a basket containing 100 fruits, there are 60 apples and 40 oranges. \n",
    "\n",
    "A fruit is picked randomly from the basket. \n",
    "\n",
    "1. **What is the probability that the fruit is apple?**\n",
    "1. **What is the probability that it is an orange?**"
   ]
  },
  {
   "cell_type": "code",
   "execution_count": 1,
   "metadata": {},
   "outputs": [
    {
     "name": "stdout",
     "output_type": "stream",
     "text": [
      "La probabilidad de que la fruta sea una manzana (p) es: 0.6\n",
      "La probabilidad de que la fruta sea una naranja (q) es: 0.4\n"
     ]
    }
   ],
   "source": [
    "\"\"\"\n",
    "Calculate:\n",
    "p = probability that the fruit is an apple \n",
    "q = probability that the fruit is an orange\n",
    "\"\"\"\n",
    "\n",
    "total_fruits = 100\n",
    "apples = 60\n",
    "oranges = 40\n",
    "\n",
    "p = apples / total_fruits\n",
    "q = oranges / total_fruits\n",
    "\n",
    "p = round(p, 3)\n",
    "q = round(q, 3)\n",
    "\n",
    "print(\"La probabilidad de que la fruta sea una manzana (p) es:\", p)\n",
    "print(\"La probabilidad de que la fruta sea una naranja (q) es:\", q)"
   ]
  },
  {
   "cell_type": "markdown",
   "metadata": {},
   "source": [
    "Now we take a random sample of 20 fruits from the basket. After each fruit is taken, a new fruit of the same type is replaced in the basket. Therefore, every time we are taking 1 fruit from 100 fruits. \n",
    "\n",
    "1. **What is the probability that the first 5 fruits are all apples?**\n",
    "\n",
    "1. **What is the probability that the first 5 fruits are all apples and the next 15 fruits are all oranges?**\n",
    "\n",
    "You can include the `p` and `q` probabilities you previous calculated in your solution."
   ]
  },
  {
   "cell_type": "code",
   "execution_count": 2,
   "metadata": {},
   "outputs": [
    {
     "name": "stdout",
     "output_type": "stream",
     "text": [
      "La probabilidad de que las primeras 5 frutas sean todas manzanas es: 0.078\n",
      "La probabilidad de que las primeras 5 frutas sean todas manzanas y las siguientes 15 frutas sean todas naranjas es: 0.0\n"
     ]
    }
   ],
   "source": [
    "p_all_apples = p ** 5  #la potenciación (p ** 5) elevamos p a la quinta potencia, es lo mismo que multiplicar p 5 veces, \n",
    "#porque tenemos las mismas posiblilidades de sacar manzana cada vez que cogemos una fruta.\n",
    "\n",
    "p_first_5_apples_next_15_oranges = p ** 5 * q ** 15\n",
    "\n",
    "p_all_apples = round(p_all_apples, 3) #redondeamos a 3 decimales\n",
    "p_first_5_apples_next_15_oranges = round(p_first_5_apples_next_15_oranges, 3)\n",
    "\n",
    "print(\"La probabilidad de que las primeras 5 frutas sean todas manzanas es:\", p_all_apples)\n",
    "print(\"La probabilidad de que las primeras 5 frutas sean todas manzanas y las siguientes 15 frutas sean todas naranjas es:\", p_first_5_apples_next_15_oranges)"
   ]
  },
  {
   "cell_type": "markdown",
   "metadata": {},
   "source": [
    "## Binomial Distribution\n",
    "\n",
    "Similar to the above problem, this time again we randomly sample 20 fruits.\n",
    "\n",
    "**What is the probability that this time the sample contains 5 apples and 15 oranges?**\n",
    "\n",
    "Please note that this time the order of the fruits being picked does not matter."
   ]
  },
  {
   "cell_type": "code",
   "execution_count": 3,
   "metadata": {},
   "outputs": [
    {
     "name": "stdout",
     "output_type": "stream",
     "text": [
      "La probabilidad de obtener exactamente 5 manzanas y 15 naranjas en la muestra de 20 frutas es: 0.001\n"
     ]
    }
   ],
   "source": [
    "#La distribución binomial se utiliza para calcular la probabilidad de obtener un número específico de éxitos en un \n",
    "#número fijo de ensayos independientes y de probabilidad constante. Su fórmula es : P(X=k) = C(n,k) * p^k * (1-p)^(n-k)\n",
    "\n",
    "import math\n",
    "\n",
    "def binomial_coefficient(n, k):\n",
    "    return math.factorial(n) / (math.factorial(k) * math.factorial(n-k))\n",
    "\n",
    "p = 0.6  # Probabilidad de obtener una manzana\n",
    "q = 1 - p  # Probabilidad de obtener una naranja\n",
    "\n",
    "k = 5  # Número de manzanas\n",
    "n = 20  # Tamaño de la muestra\n",
    "\n",
    "probability = binomial_coefficient(n, k) * p**k * q**(n-k)\n",
    "\n",
    "probability = round(probability, 3)\n",
    "\n",
    "print(\"La probabilidad de obtener exactamente 5 manzanas y 15 naranjas en la muestra de 20 frutas es:\", probability)\n"
   ]
  },
  {
   "cell_type": "markdown",
   "metadata": {},
   "source": [
    "In the lesson we also discussed CDF (cumulative distribution function). In the context of the above problem, **what is the probability that less than 5 fruits picked are apples?**\n",
    "\n",
    "Write the formula and calculate the probability below."
   ]
  },
  {
   "cell_type": "code",
   "execution_count": 4,
   "metadata": {},
   "outputs": [
    {
     "name": "stdout",
     "output_type": "stream",
     "text": [
      "La probabilidad de obtener menos de 5 manzanas en la muestra de 20 frutas es: 0.0\n"
     ]
    }
   ],
   "source": [
    "import math\n",
    "\n",
    "def binomial_coefficient(n, k):\n",
    "    return math.factorial(n) / (math.factorial(k) * math.factorial(n-k))\n",
    "\n",
    "p = 0.6  # Probabilidad de obtener una manzana\n",
    "q = 1 - p  # Probabilidad de obtener una naranja\n",
    "\n",
    "k = 4  # Número máximo de manzanas para la CDF\n",
    "n = 20  # Tamaño de la muestra\n",
    "\n",
    "cdf_probability = 0 #Inicializamos la variable cdf_probability como 0, que usaremos para almacenar la probabilidad acumulativa.\n",
    "\n",
    "for i in range(k + 1):\n",
    "    cdf_probability += binomial_coefficient(n, i) * p**i * q**(n-i) \n",
    "    #Usamos un bucle for que va desde 0 hasta k (4 en este caso) para calcular la probabilidad acumulativa. \n",
    "    #En cada iteración, calculamos la probabilidad binomial para el valor de i y lo sumamos a cdf_probability.\n",
    "\n",
    "cdf_probability = round(cdf_probability, 3)\n",
    "\n",
    "print(\"La probabilidad de obtener menos de 5 manzanas en la muestra de 20 frutas es:\", cdf_probability)"
   ]
  },
  {
   "cell_type": "markdown",
   "metadata": {},
   "source": [
    "**Plot the PDF (probability distributiom function) for the above binomial distribution.**\n",
    "\n",
    "*Hint: The range of x in a binomial distribution is from `0` to `n`.*"
   ]
  },
  {
   "cell_type": "code",
   "execution_count": 5,
   "metadata": {},
   "outputs": [
    {
     "data": {
      "image/png": "[encoded data removed]",
      "text/plain": [
       "<Figure size 640x480 with 1 Axes>"
      ]
     },
     "metadata": {},
     "output_type": "display_data"
    }
   ],
   "source": [
    "import math\n",
    "import matplotlib.pyplot as plt\n",
    "\n",
    "def binomial_coefficient(n, k):\n",
    "    return math.factorial(n) / (math.factorial(k) * math.factorial(n-k))\n",
    "\n",
    "p = 0.6  # Probability of getting an apple\n",
    "q = 1 - p  # Probability of getting an orange\n",
    "\n",
    "n = 20  # Sample size\n",
    "\n",
    "x_values = list(range(n + 1)) #Creamos dos listas vacías: x_values y y_values.  \n",
    "y_values = [] #Estas listas serán utilizadas para almacenar los valores de los ejes x (número de manzanas) e y (probabilidad), respectivamente, para el gráfico de la PDF.\n",
    "\n",
    "# Calculate the probability for each possible value of x\n",
    "for x in x_values:\n",
    "    probability = binomial_coefficient(n, x) * p**x * q**(n-x)\n",
    "    y_values.append(probability)\n",
    "    #Utilizamos un bucle for para calcular la probabilidad para cada posible valor de x (número de manzanas) en el rango \n",
    "    #de 0 a n. Calculamos la probabilidad utilizando la fórmula del coeficiente binomial y la agregamos a la lista y_values.\n",
    "\n",
    "# Plotting the PDF\n",
    "plt.bar(x_values, y_values)\n",
    "plt.xlabel('Number of Apples')\n",
    "plt.ylabel('Probability')\n",
    "plt.title('Probability Distribution Function - Binomial Distribution')\n",
    "plt.show()\n"
   ]
  },
  {
   "cell_type": "markdown",
   "metadata": {},
   "source": [
    "## Poisson Distribution\n",
    "\n",
    "In this challenge you are required to use the Math library in python to solve the problems.\n",
    "\n",
    "In the UEFA champions league tournament, the average number of goals scored in a match is 2.3. \n",
    "\n",
    "**What is the probability that the number of goals scored in a match is 5?**\n",
    "\n",
    "*Hint: Use the exp() in the math library*\n",
    "\n",
    "And to calculate the factorial, you can use the following code:\n",
    "\n",
    "```python\n",
    "import math\n",
    "math.factorial(n) # n is the number you want to find the factorial of\n",
    "```"
   ]
  },
  {
   "cell_type": "code",
   "execution_count": 6,
   "metadata": {},
   "outputs": [
    {
     "name": "stdout",
     "output_type": "stream",
     "text": [
      "La probabilidad de que se marquen 5 goles en un partido es: 0.0538\n"
     ]
    }
   ],
   "source": [
    "import math\n",
    "math.factorial(n)  # n es el número del cual quieres calcular el factorial\n",
    "\n",
    "average_goals = 2.3  # Número promedio de goles por partido\n",
    "goals = 5  # Número de goles para calcular la probabilidad\n",
    "\n",
    "# Usamos la fórmula de la distribución de Poisson para calcular la probabilidad\n",
    "probability = (math.exp(-average_goals) * average_goals**goals) / math.factorial(goals)\n",
    "\n",
    "# Redondeamos la probabilidad a cuatro decimales\n",
    "probability = round(probability, 4)\n",
    "\n",
    "print(\"La probabilidad de que se marquen 5 goles en un partido es:\", probability)"
   ]
  },
  {
   "cell_type": "markdown",
   "metadata": {},
   "source": [
    "**Draw a poisson probability distribution plot for the number of goals to be between 0 to 10.**"
   ]
  },
  {
   "cell_type": "code",
   "execution_count": 7,
   "metadata": {},
   "outputs": [
    {
     "data": {
      "image/png": "[encoded data removed]",
      "text/plain": [
       "<Figure size 640x480 with 1 Axes>"
      ]
     },
     "metadata": {},
     "output_type": "display_data"
    }
   ],
   "source": [
    "import math\n",
    "import matplotlib.pyplot as plt\n",
    "\n",
    "average_goals = 2.3  # Número promedio de goles por partido\n",
    "x_values = list(range(0, 11))  # Valores de x (número de goles)\n",
    "y_values = []\n",
    "\n",
    "# Calcular la probabilidad para cada número de goles\n",
    "for x in x_values:\n",
    "    probability = (math.exp(-average_goals) * average_goals**x) / math.factorial(x)\n",
    "    y_values.append(probability)\n",
    "\n",
    "# Trace el gráfico de distribución de probabilidad\n",
    "plt.bar(x_values, y_values)\n",
    "plt.xlabel('Número de Goles')\n",
    "plt.ylabel('Probabilidad')\n",
    "plt.title('Distribución de Probabilidad de Poisson - Número de Goles por Partido')\n",
    "plt.show()"
   ]
  },
  {
   "cell_type": "code",
   "execution_count": null,
   "metadata": {},
   "outputs": [],
   "source": []
  }
 ],
 "metadata": {
  "kernelspec": {
   "display_name": "Python 3 (ipykernel)",
   "language": "python",
   "name": "python3"
  },
  "language_info": {
   "codemirror_mode": {
    "name": "ipython",
    "version": 3
   },
   "file_extension": ".py",
   "mimetype": "text/x-python",
   "name": "python",
   "nbconvert_exporter": "python",
   "pygments_lexer": "ipython3",
   "version": "3.10.9"
  }
 },
 "nbformat": 4,
 "nbformat_minor": 2
}
